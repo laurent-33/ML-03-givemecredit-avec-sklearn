{
 "cells": [
  {
   "cell_type": "markdown",
   "metadata": {},
   "source": [
    "- Utilisation de bigml pour créer des modèles d'apprentissage"
   ]
  },
  {
   "cell_type": "code",
   "execution_count": 34,
   "metadata": {},
   "outputs": [],
   "source": [
    "from pandas import DataFrame, read_csv, Series\n",
    "import matplotlib.pyplot as plt\n",
    "%matplotlib notebook\n",
    "\n",
    "from numpy import random\n",
    "from sklearn.model_selection import train_test_split\n",
    "from sklearn.ensemble import RandomForestClassifier"
   ]
  },
  {
   "cell_type": "markdown",
   "metadata": {},
   "source": [
    "- Importation des dataframe depuis les fichiers générés précédemment"
   ]
  },
  {
   "cell_type": "code",
   "execution_count": 35,
   "metadata": {},
   "outputs": [],
   "source": [
    "train_full = read_csv('fulltrain_mod.csv', index_col=0)"
   ]
  },
  {
   "cell_type": "markdown",
   "metadata": {},
   "source": [
    "- Création du split trainfull en 80/20 pour train/test"
   ]
  },
  {
   "cell_type": "code",
   "execution_count": 36,
   "metadata": {},
   "outputs": [
    {
     "name": "stdout",
     "output_type": "stream",
     "text": [
      "Train full shape: (150000, 14)\n",
      "Train shape: (120000, 14)\n",
      "Val shape: (30000, 14)\n"
     ]
    }
   ],
   "source": [
    "train_dataset, val_dataset = train_test_split(train_full, test_size=0.2, random_state=17)\n",
    "print(\"Train full shape: \" + str(train_full.shape))\n",
    "print(\"Train shape: \" + str(train_dataset.shape))\n",
    "print(\"Val shape: \" + str(val_dataset.shape))"
   ]
  },
  {
   "cell_type": "code",
   "execution_count": 37,
   "metadata": {},
   "outputs": [
    {
     "data": {
      "text/html": [
       "<div>\n",
       "<style scoped>\n",
       "    .dataframe tbody tr th:only-of-type {\n",
       "        vertical-align: middle;\n",
       "    }\n",
       "\n",
       "    .dataframe tbody tr th {\n",
       "        vertical-align: top;\n",
       "    }\n",
       "\n",
       "    .dataframe thead th {\n",
       "        text-align: right;\n",
       "    }\n",
       "</style>\n",
       "<table border=\"1\" class=\"dataframe\">\n",
       "  <thead>\n",
       "    <tr style=\"text-align: right;\">\n",
       "      <th></th>\n",
       "      <th>SeriousDlqin2yrs</th>\n",
       "      <th>RevolvingUtilizationOfUnsecuredLines</th>\n",
       "      <th>age</th>\n",
       "      <th>NumberOfTime30-59DaysPastDueNotWorse</th>\n",
       "      <th>DebtRatio</th>\n",
       "      <th>MonthlyIncome</th>\n",
       "      <th>NumberOfOpenCreditLinesAndLoans</th>\n",
       "      <th>NumberOfTimes90DaysLate</th>\n",
       "      <th>NumberRealEstateLoansOrLines</th>\n",
       "      <th>NumberOfTime60-89DaysPastDueNotWorse</th>\n",
       "      <th>NumberOfDependents</th>\n",
       "      <th>MonthlyIncome_sansna</th>\n",
       "      <th>Sum</th>\n",
       "      <th>IncomePerPerson</th>\n",
       "    </tr>\n",
       "  </thead>\n",
       "  <tbody>\n",
       "    <tr>\n",
       "      <td>147628</td>\n",
       "      <td>0</td>\n",
       "      <td>0.082562</td>\n",
       "      <td>63</td>\n",
       "      <td>0</td>\n",
       "      <td>126.000000</td>\n",
       "      <td>NaN</td>\n",
       "      <td>7</td>\n",
       "      <td>0</td>\n",
       "      <td>0</td>\n",
       "      <td>0</td>\n",
       "      <td>0.0</td>\n",
       "      <td>0.0</td>\n",
       "      <td>0</td>\n",
       "      <td>NaN</td>\n",
       "    </tr>\n",
       "    <tr>\n",
       "      <td>66735</td>\n",
       "      <td>0</td>\n",
       "      <td>0.000000</td>\n",
       "      <td>43</td>\n",
       "      <td>0</td>\n",
       "      <td>0.208955</td>\n",
       "      <td>13600.0</td>\n",
       "      <td>6</td>\n",
       "      <td>0</td>\n",
       "      <td>1</td>\n",
       "      <td>0</td>\n",
       "      <td>1.0</td>\n",
       "      <td>13600.0</td>\n",
       "      <td>0</td>\n",
       "      <td>6800.0</td>\n",
       "    </tr>\n",
       "    <tr>\n",
       "      <td>49613</td>\n",
       "      <td>0</td>\n",
       "      <td>0.098980</td>\n",
       "      <td>58</td>\n",
       "      <td>1</td>\n",
       "      <td>0.334405</td>\n",
       "      <td>5600.0</td>\n",
       "      <td>5</td>\n",
       "      <td>0</td>\n",
       "      <td>2</td>\n",
       "      <td>0</td>\n",
       "      <td>0.0</td>\n",
       "      <td>5600.0</td>\n",
       "      <td>1</td>\n",
       "      <td>5600.0</td>\n",
       "    </tr>\n",
       "    <tr>\n",
       "      <td>98133</td>\n",
       "      <td>0</td>\n",
       "      <td>0.504162</td>\n",
       "      <td>51</td>\n",
       "      <td>0</td>\n",
       "      <td>4725.000000</td>\n",
       "      <td>NaN</td>\n",
       "      <td>9</td>\n",
       "      <td>0</td>\n",
       "      <td>2</td>\n",
       "      <td>0</td>\n",
       "      <td>5.0</td>\n",
       "      <td>0.0</td>\n",
       "      <td>0</td>\n",
       "      <td>NaN</td>\n",
       "    </tr>\n",
       "    <tr>\n",
       "      <td>1889</td>\n",
       "      <td>0</td>\n",
       "      <td>1.000000</td>\n",
       "      <td>62</td>\n",
       "      <td>0</td>\n",
       "      <td>0.032639</td>\n",
       "      <td>1776.0</td>\n",
       "      <td>1</td>\n",
       "      <td>1</td>\n",
       "      <td>0</td>\n",
       "      <td>0</td>\n",
       "      <td>0.0</td>\n",
       "      <td>1776.0</td>\n",
       "      <td>1</td>\n",
       "      <td>1776.0</td>\n",
       "    </tr>\n",
       "  </tbody>\n",
       "</table>\n",
       "</div>"
      ],
      "text/plain": [
       "        SeriousDlqin2yrs  RevolvingUtilizationOfUnsecuredLines  age  \\\n",
       "147628                 0                              0.082562   63   \n",
       "66735                  0                              0.000000   43   \n",
       "49613                  0                              0.098980   58   \n",
       "98133                  0                              0.504162   51   \n",
       "1889                   0                              1.000000   62   \n",
       "\n",
       "        NumberOfTime30-59DaysPastDueNotWorse    DebtRatio  MonthlyIncome  \\\n",
       "147628                                     0   126.000000            NaN   \n",
       "66735                                      0     0.208955        13600.0   \n",
       "49613                                      1     0.334405         5600.0   \n",
       "98133                                      0  4725.000000            NaN   \n",
       "1889                                       0     0.032639         1776.0   \n",
       "\n",
       "        NumberOfOpenCreditLinesAndLoans  NumberOfTimes90DaysLate  \\\n",
       "147628                                7                        0   \n",
       "66735                                 6                        0   \n",
       "49613                                 5                        0   \n",
       "98133                                 9                        0   \n",
       "1889                                  1                        1   \n",
       "\n",
       "        NumberRealEstateLoansOrLines  NumberOfTime60-89DaysPastDueNotWorse  \\\n",
       "147628                             0                                     0   \n",
       "66735                              1                                     0   \n",
       "49613                              2                                     0   \n",
       "98133                              2                                     0   \n",
       "1889                               0                                     0   \n",
       "\n",
       "        NumberOfDependents  MonthlyIncome_sansna  Sum  IncomePerPerson  \n",
       "147628                 0.0                   0.0    0              NaN  \n",
       "66735                  1.0               13600.0    0           6800.0  \n",
       "49613                  0.0                5600.0    1           5600.0  \n",
       "98133                  5.0                   0.0    0              NaN  \n",
       "1889                   0.0                1776.0    1           1776.0  "
      ]
     },
     "execution_count": 37,
     "metadata": {},
     "output_type": "execute_result"
    }
   ],
   "source": [
    "train_dataset.head()"
   ]
  },
  {
   "cell_type": "markdown",
   "metadata": {},
   "source": [
    "- Nettoyage des donneés pour pouvoir les soumettre à la génération de modèle"
   ]
  },
  {
   "cell_type": "code",
   "execution_count": 38,
   "metadata": {},
   "outputs": [
    {
     "name": "stderr",
     "output_type": "stream",
     "text": [
      "/opt/conda/lib/python3.7/site-packages/pandas/core/frame.py:4244: SettingWithCopyWarning: \n",
      "A value is trying to be set on a copy of a slice from a DataFrame\n",
      "\n",
      "See the caveats in the documentation: http://pandas.pydata.org/pandas-docs/stable/user_guide/indexing.html#returning-a-view-versus-a-copy\n",
      "  **kwargs\n"
     ]
    },
    {
     "data": {
      "text/html": [
       "<div>\n",
       "<style scoped>\n",
       "    .dataframe tbody tr th:only-of-type {\n",
       "        vertical-align: middle;\n",
       "    }\n",
       "\n",
       "    .dataframe tbody tr th {\n",
       "        vertical-align: top;\n",
       "    }\n",
       "\n",
       "    .dataframe thead th {\n",
       "        text-align: right;\n",
       "    }\n",
       "</style>\n",
       "<table border=\"1\" class=\"dataframe\">\n",
       "  <thead>\n",
       "    <tr style=\"text-align: right;\">\n",
       "      <th></th>\n",
       "      <th>SeriousDlqin2yrs</th>\n",
       "      <th>RevolvingUtilizationOfUnsecuredLines</th>\n",
       "      <th>age</th>\n",
       "      <th>NumberOfTime30-59DaysPastDueNotWorse</th>\n",
       "      <th>DebtRatio</th>\n",
       "      <th>MonthlyIncome</th>\n",
       "      <th>NumberOfOpenCreditLinesAndLoans</th>\n",
       "      <th>NumberOfTimes90DaysLate</th>\n",
       "      <th>NumberRealEstateLoansOrLines</th>\n",
       "      <th>NumberOfTime60-89DaysPastDueNotWorse</th>\n",
       "      <th>NumberOfDependents</th>\n",
       "      <th>MonthlyIncome_sansna</th>\n",
       "      <th>Sum</th>\n",
       "      <th>IncomePerPerson</th>\n",
       "    </tr>\n",
       "  </thead>\n",
       "  <tbody>\n",
       "    <tr>\n",
       "      <td>147628</td>\n",
       "      <td>0</td>\n",
       "      <td>0.082562</td>\n",
       "      <td>63</td>\n",
       "      <td>0</td>\n",
       "      <td>126.000000</td>\n",
       "      <td>0.0</td>\n",
       "      <td>7</td>\n",
       "      <td>0</td>\n",
       "      <td>0</td>\n",
       "      <td>0</td>\n",
       "      <td>0.0</td>\n",
       "      <td>0.0</td>\n",
       "      <td>0</td>\n",
       "      <td>0.0</td>\n",
       "    </tr>\n",
       "    <tr>\n",
       "      <td>66735</td>\n",
       "      <td>0</td>\n",
       "      <td>0.000000</td>\n",
       "      <td>43</td>\n",
       "      <td>0</td>\n",
       "      <td>0.208955</td>\n",
       "      <td>13600.0</td>\n",
       "      <td>6</td>\n",
       "      <td>0</td>\n",
       "      <td>1</td>\n",
       "      <td>0</td>\n",
       "      <td>1.0</td>\n",
       "      <td>13600.0</td>\n",
       "      <td>0</td>\n",
       "      <td>6800.0</td>\n",
       "    </tr>\n",
       "    <tr>\n",
       "      <td>49613</td>\n",
       "      <td>0</td>\n",
       "      <td>0.098980</td>\n",
       "      <td>58</td>\n",
       "      <td>1</td>\n",
       "      <td>0.334405</td>\n",
       "      <td>5600.0</td>\n",
       "      <td>5</td>\n",
       "      <td>0</td>\n",
       "      <td>2</td>\n",
       "      <td>0</td>\n",
       "      <td>0.0</td>\n",
       "      <td>5600.0</td>\n",
       "      <td>1</td>\n",
       "      <td>5600.0</td>\n",
       "    </tr>\n",
       "    <tr>\n",
       "      <td>98133</td>\n",
       "      <td>0</td>\n",
       "      <td>0.504162</td>\n",
       "      <td>51</td>\n",
       "      <td>0</td>\n",
       "      <td>4725.000000</td>\n",
       "      <td>0.0</td>\n",
       "      <td>9</td>\n",
       "      <td>0</td>\n",
       "      <td>2</td>\n",
       "      <td>0</td>\n",
       "      <td>5.0</td>\n",
       "      <td>0.0</td>\n",
       "      <td>0</td>\n",
       "      <td>0.0</td>\n",
       "    </tr>\n",
       "    <tr>\n",
       "      <td>1889</td>\n",
       "      <td>0</td>\n",
       "      <td>1.000000</td>\n",
       "      <td>62</td>\n",
       "      <td>0</td>\n",
       "      <td>0.032639</td>\n",
       "      <td>1776.0</td>\n",
       "      <td>1</td>\n",
       "      <td>1</td>\n",
       "      <td>0</td>\n",
       "      <td>0</td>\n",
       "      <td>0.0</td>\n",
       "      <td>1776.0</td>\n",
       "      <td>1</td>\n",
       "      <td>1776.0</td>\n",
       "    </tr>\n",
       "  </tbody>\n",
       "</table>\n",
       "</div>"
      ],
      "text/plain": [
       "        SeriousDlqin2yrs  RevolvingUtilizationOfUnsecuredLines  age  \\\n",
       "147628                 0                              0.082562   63   \n",
       "66735                  0                              0.000000   43   \n",
       "49613                  0                              0.098980   58   \n",
       "98133                  0                              0.504162   51   \n",
       "1889                   0                              1.000000   62   \n",
       "\n",
       "        NumberOfTime30-59DaysPastDueNotWorse    DebtRatio  MonthlyIncome  \\\n",
       "147628                                     0   126.000000            0.0   \n",
       "66735                                      0     0.208955        13600.0   \n",
       "49613                                      1     0.334405         5600.0   \n",
       "98133                                      0  4725.000000            0.0   \n",
       "1889                                       0     0.032639         1776.0   \n",
       "\n",
       "        NumberOfOpenCreditLinesAndLoans  NumberOfTimes90DaysLate  \\\n",
       "147628                                7                        0   \n",
       "66735                                 6                        0   \n",
       "49613                                 5                        0   \n",
       "98133                                 9                        0   \n",
       "1889                                  1                        1   \n",
       "\n",
       "        NumberRealEstateLoansOrLines  NumberOfTime60-89DaysPastDueNotWorse  \\\n",
       "147628                             0                                     0   \n",
       "66735                              1                                     0   \n",
       "49613                              2                                     0   \n",
       "98133                              2                                     0   \n",
       "1889                               0                                     0   \n",
       "\n",
       "        NumberOfDependents  MonthlyIncome_sansna  Sum  IncomePerPerson  \n",
       "147628                 0.0                   0.0    0              0.0  \n",
       "66735                  1.0               13600.0    0           6800.0  \n",
       "49613                  0.0                5600.0    1           5600.0  \n",
       "98133                  5.0                   0.0    0              0.0  \n",
       "1889                   0.0                1776.0    1           1776.0  "
      ]
     },
     "execution_count": 38,
     "metadata": {},
     "output_type": "execute_result"
    }
   ],
   "source": [
    "train_dataset.fillna(0, inplace=True)\n",
    "val_dataset.fillna(0, inplace=True)\n",
    "train_dataset.head()"
   ]
  },
  {
   "cell_type": "markdown",
   "metadata": {},
   "source": [
    "- découpage des données en X (inputs) et Y (outputs)"
   ]
  },
  {
   "cell_type": "code",
   "execution_count": 39,
   "metadata": {},
   "outputs": [],
   "source": [
    "Y_train = train_dataset['SeriousDlqin2yrs']\n",
    "X_train = train_dataset.drop('SeriousDlqin2yrs', axis=1)\n",
    "\n",
    "Y_val = val_dataset['SeriousDlqin2yrs']\n",
    "X_val = val_dataset.drop('SeriousDlqin2yrs', axis=1)"
   ]
  },
  {
   "cell_type": "code",
   "execution_count": 40,
   "metadata": {},
   "outputs": [
    {
     "data": {
      "text/html": [
       "<div>\n",
       "<style scoped>\n",
       "    .dataframe tbody tr th:only-of-type {\n",
       "        vertical-align: middle;\n",
       "    }\n",
       "\n",
       "    .dataframe tbody tr th {\n",
       "        vertical-align: top;\n",
       "    }\n",
       "\n",
       "    .dataframe thead th {\n",
       "        text-align: right;\n",
       "    }\n",
       "</style>\n",
       "<table border=\"1\" class=\"dataframe\">\n",
       "  <thead>\n",
       "    <tr style=\"text-align: right;\">\n",
       "      <th></th>\n",
       "      <th>RevolvingUtilizationOfUnsecuredLines</th>\n",
       "      <th>age</th>\n",
       "      <th>NumberOfTime30-59DaysPastDueNotWorse</th>\n",
       "      <th>DebtRatio</th>\n",
       "      <th>MonthlyIncome</th>\n",
       "      <th>NumberOfOpenCreditLinesAndLoans</th>\n",
       "      <th>NumberOfTimes90DaysLate</th>\n",
       "      <th>NumberRealEstateLoansOrLines</th>\n",
       "      <th>NumberOfTime60-89DaysPastDueNotWorse</th>\n",
       "      <th>NumberOfDependents</th>\n",
       "      <th>MonthlyIncome_sansna</th>\n",
       "      <th>Sum</th>\n",
       "      <th>IncomePerPerson</th>\n",
       "    </tr>\n",
       "  </thead>\n",
       "  <tbody>\n",
       "    <tr>\n",
       "      <td>147628</td>\n",
       "      <td>0.082562</td>\n",
       "      <td>63</td>\n",
       "      <td>0</td>\n",
       "      <td>126.000000</td>\n",
       "      <td>0.0</td>\n",
       "      <td>7</td>\n",
       "      <td>0</td>\n",
       "      <td>0</td>\n",
       "      <td>0</td>\n",
       "      <td>0.0</td>\n",
       "      <td>0.0</td>\n",
       "      <td>0</td>\n",
       "      <td>0.0</td>\n",
       "    </tr>\n",
       "    <tr>\n",
       "      <td>66735</td>\n",
       "      <td>0.000000</td>\n",
       "      <td>43</td>\n",
       "      <td>0</td>\n",
       "      <td>0.208955</td>\n",
       "      <td>13600.0</td>\n",
       "      <td>6</td>\n",
       "      <td>0</td>\n",
       "      <td>1</td>\n",
       "      <td>0</td>\n",
       "      <td>1.0</td>\n",
       "      <td>13600.0</td>\n",
       "      <td>0</td>\n",
       "      <td>6800.0</td>\n",
       "    </tr>\n",
       "    <tr>\n",
       "      <td>49613</td>\n",
       "      <td>0.098980</td>\n",
       "      <td>58</td>\n",
       "      <td>1</td>\n",
       "      <td>0.334405</td>\n",
       "      <td>5600.0</td>\n",
       "      <td>5</td>\n",
       "      <td>0</td>\n",
       "      <td>2</td>\n",
       "      <td>0</td>\n",
       "      <td>0.0</td>\n",
       "      <td>5600.0</td>\n",
       "      <td>1</td>\n",
       "      <td>5600.0</td>\n",
       "    </tr>\n",
       "    <tr>\n",
       "      <td>98133</td>\n",
       "      <td>0.504162</td>\n",
       "      <td>51</td>\n",
       "      <td>0</td>\n",
       "      <td>4725.000000</td>\n",
       "      <td>0.0</td>\n",
       "      <td>9</td>\n",
       "      <td>0</td>\n",
       "      <td>2</td>\n",
       "      <td>0</td>\n",
       "      <td>5.0</td>\n",
       "      <td>0.0</td>\n",
       "      <td>0</td>\n",
       "      <td>0.0</td>\n",
       "    </tr>\n",
       "    <tr>\n",
       "      <td>1889</td>\n",
       "      <td>1.000000</td>\n",
       "      <td>62</td>\n",
       "      <td>0</td>\n",
       "      <td>0.032639</td>\n",
       "      <td>1776.0</td>\n",
       "      <td>1</td>\n",
       "      <td>1</td>\n",
       "      <td>0</td>\n",
       "      <td>0</td>\n",
       "      <td>0.0</td>\n",
       "      <td>1776.0</td>\n",
       "      <td>1</td>\n",
       "      <td>1776.0</td>\n",
       "    </tr>\n",
       "    <tr>\n",
       "      <td>...</td>\n",
       "      <td>...</td>\n",
       "      <td>...</td>\n",
       "      <td>...</td>\n",
       "      <td>...</td>\n",
       "      <td>...</td>\n",
       "      <td>...</td>\n",
       "      <td>...</td>\n",
       "      <td>...</td>\n",
       "      <td>...</td>\n",
       "      <td>...</td>\n",
       "      <td>...</td>\n",
       "      <td>...</td>\n",
       "      <td>...</td>\n",
       "    </tr>\n",
       "    <tr>\n",
       "      <td>25632</td>\n",
       "      <td>0.692263</td>\n",
       "      <td>58</td>\n",
       "      <td>0</td>\n",
       "      <td>530.000000</td>\n",
       "      <td>0.0</td>\n",
       "      <td>3</td>\n",
       "      <td>0</td>\n",
       "      <td>0</td>\n",
       "      <td>0</td>\n",
       "      <td>2.0</td>\n",
       "      <td>0.0</td>\n",
       "      <td>0</td>\n",
       "      <td>0.0</td>\n",
       "    </tr>\n",
       "    <tr>\n",
       "      <td>125681</td>\n",
       "      <td>0.047413</td>\n",
       "      <td>75</td>\n",
       "      <td>0</td>\n",
       "      <td>744.000000</td>\n",
       "      <td>0.0</td>\n",
       "      <td>11</td>\n",
       "      <td>0</td>\n",
       "      <td>0</td>\n",
       "      <td>0</td>\n",
       "      <td>0.0</td>\n",
       "      <td>0.0</td>\n",
       "      <td>0</td>\n",
       "      <td>0.0</td>\n",
       "    </tr>\n",
       "    <tr>\n",
       "      <td>42298</td>\n",
       "      <td>0.244320</td>\n",
       "      <td>65</td>\n",
       "      <td>0</td>\n",
       "      <td>0.358423</td>\n",
       "      <td>10933.0</td>\n",
       "      <td>9</td>\n",
       "      <td>0</td>\n",
       "      <td>1</td>\n",
       "      <td>0</td>\n",
       "      <td>0.0</td>\n",
       "      <td>10933.0</td>\n",
       "      <td>0</td>\n",
       "      <td>10933.0</td>\n",
       "    </tr>\n",
       "    <tr>\n",
       "      <td>34960</td>\n",
       "      <td>0.645418</td>\n",
       "      <td>32</td>\n",
       "      <td>0</td>\n",
       "      <td>0.149402</td>\n",
       "      <td>2422.0</td>\n",
       "      <td>3</td>\n",
       "      <td>0</td>\n",
       "      <td>0</td>\n",
       "      <td>0</td>\n",
       "      <td>1.0</td>\n",
       "      <td>2422.0</td>\n",
       "      <td>0</td>\n",
       "      <td>1211.0</td>\n",
       "    </tr>\n",
       "    <tr>\n",
       "      <td>64754</td>\n",
       "      <td>0.042607</td>\n",
       "      <td>41</td>\n",
       "      <td>0</td>\n",
       "      <td>0.207706</td>\n",
       "      <td>7500.0</td>\n",
       "      <td>5</td>\n",
       "      <td>0</td>\n",
       "      <td>2</td>\n",
       "      <td>0</td>\n",
       "      <td>0.0</td>\n",
       "      <td>7500.0</td>\n",
       "      <td>0</td>\n",
       "      <td>7500.0</td>\n",
       "    </tr>\n",
       "  </tbody>\n",
       "</table>\n",
       "<p>120000 rows × 13 columns</p>\n",
       "</div>"
      ],
      "text/plain": [
       "        RevolvingUtilizationOfUnsecuredLines  age  \\\n",
       "147628                              0.082562   63   \n",
       "66735                               0.000000   43   \n",
       "49613                               0.098980   58   \n",
       "98133                               0.504162   51   \n",
       "1889                                1.000000   62   \n",
       "...                                      ...  ...   \n",
       "25632                               0.692263   58   \n",
       "125681                              0.047413   75   \n",
       "42298                               0.244320   65   \n",
       "34960                               0.645418   32   \n",
       "64754                               0.042607   41   \n",
       "\n",
       "        NumberOfTime30-59DaysPastDueNotWorse    DebtRatio  MonthlyIncome  \\\n",
       "147628                                     0   126.000000            0.0   \n",
       "66735                                      0     0.208955        13600.0   \n",
       "49613                                      1     0.334405         5600.0   \n",
       "98133                                      0  4725.000000            0.0   \n",
       "1889                                       0     0.032639         1776.0   \n",
       "...                                      ...          ...            ...   \n",
       "25632                                      0   530.000000            0.0   \n",
       "125681                                     0   744.000000            0.0   \n",
       "42298                                      0     0.358423        10933.0   \n",
       "34960                                      0     0.149402         2422.0   \n",
       "64754                                      0     0.207706         7500.0   \n",
       "\n",
       "        NumberOfOpenCreditLinesAndLoans  NumberOfTimes90DaysLate  \\\n",
       "147628                                7                        0   \n",
       "66735                                 6                        0   \n",
       "49613                                 5                        0   \n",
       "98133                                 9                        0   \n",
       "1889                                  1                        1   \n",
       "...                                 ...                      ...   \n",
       "25632                                 3                        0   \n",
       "125681                               11                        0   \n",
       "42298                                 9                        0   \n",
       "34960                                 3                        0   \n",
       "64754                                 5                        0   \n",
       "\n",
       "        NumberRealEstateLoansOrLines  NumberOfTime60-89DaysPastDueNotWorse  \\\n",
       "147628                             0                                     0   \n",
       "66735                              1                                     0   \n",
       "49613                              2                                     0   \n",
       "98133                              2                                     0   \n",
       "1889                               0                                     0   \n",
       "...                              ...                                   ...   \n",
       "25632                              0                                     0   \n",
       "125681                             0                                     0   \n",
       "42298                              1                                     0   \n",
       "34960                              0                                     0   \n",
       "64754                              2                                     0   \n",
       "\n",
       "        NumberOfDependents  MonthlyIncome_sansna  Sum  IncomePerPerson  \n",
       "147628                 0.0                   0.0    0              0.0  \n",
       "66735                  1.0               13600.0    0           6800.0  \n",
       "49613                  0.0                5600.0    1           5600.0  \n",
       "98133                  5.0                   0.0    0              0.0  \n",
       "1889                   0.0                1776.0    1           1776.0  \n",
       "...                    ...                   ...  ...              ...  \n",
       "25632                  2.0                   0.0    0              0.0  \n",
       "125681                 0.0                   0.0    0              0.0  \n",
       "42298                  0.0               10933.0    0          10933.0  \n",
       "34960                  1.0                2422.0    0           1211.0  \n",
       "64754                  0.0                7500.0    0           7500.0  \n",
       "\n",
       "[120000 rows x 13 columns]"
      ]
     },
     "execution_count": 40,
     "metadata": {},
     "output_type": "execute_result"
    }
   ],
   "source": [
    "X_train"
   ]
  },
  {
   "cell_type": "code",
   "execution_count": 41,
   "metadata": {},
   "outputs": [
    {
     "data": {
      "text/plain": [
       "147628    0\n",
       "66735     0\n",
       "49613     0\n",
       "98133     0\n",
       "1889      0\n",
       "Name: SeriousDlqin2yrs, dtype: int64"
      ]
     },
     "execution_count": 41,
     "metadata": {},
     "output_type": "execute_result"
    }
   ],
   "source": [
    "Y_train.head()"
   ]
  },
  {
   "cell_type": "markdown",
   "metadata": {},
   "source": [
    "- Génération du modèle d'apprentissage"
   ]
  },
  {
   "cell_type": "code",
   "execution_count": 10,
   "metadata": {},
   "outputs": [
    {
     "name": "stderr",
     "output_type": "stream",
     "text": [
      "/opt/conda/lib/python3.7/site-packages/sklearn/ensemble/forest.py:246: FutureWarning: The default value of n_estimators will change from 10 in version 0.20 to 100 in 0.22.\n",
      "  \"10 in version 0.20 to 100 in 0.22.\", FutureWarning)\n"
     ]
    },
    {
     "data": {
      "text/plain": [
       "RandomForestClassifier(bootstrap=True, class_weight=None, criterion='gini',\n",
       "            max_depth=None, max_features='auto', max_leaf_nodes=None,\n",
       "            min_impurity_decrease=0.0, min_impurity_split=None,\n",
       "            min_samples_leaf=1, min_samples_split=2,\n",
       "            min_weight_fraction_leaf=0.0, n_estimators=10, n_jobs=None,\n",
       "            oob_score=False, random_state=None, verbose=0,\n",
       "            warm_start=False)"
      ]
     },
     "execution_count": 10,
     "metadata": {},
     "output_type": "execute_result"
    }
   ],
   "source": [
    "model = RandomForestClassifier()\n",
    "model.fit(X_train, Y_train)"
   ]
  },
  {
   "cell_type": "markdown",
   "metadata": {},
   "source": [
    "- Application du modèle sur le set de validation"
   ]
  },
  {
   "cell_type": "code",
   "execution_count": 11,
   "metadata": {},
   "outputs": [
    {
     "name": "stdout",
     "output_type": "stream",
     "text": [
      "[[1.  0. ]\n",
      " [0.6 0.4]\n",
      " [1.  0. ]\n",
      " ...\n",
      " [1.  0. ]\n",
      " [1.  0. ]\n",
      " [0.9 0.1]]\n"
     ]
    }
   ],
   "source": [
    "y_val_proba = model.predict_proba(X_val)\n",
    "print(y_val_proba)"
   ]
  },
  {
   "cell_type": "markdown",
   "metadata": {},
   "source": [
    "- L'on récupère la colonne des 1 Proba"
   ]
  },
  {
   "cell_type": "code",
   "execution_count": 12,
   "metadata": {},
   "outputs": [
    {
     "name": "stdout",
     "output_type": "stream",
     "text": [
      "[0.  0.4 0.  ... 0.  0.  0.1]\n"
     ]
    }
   ],
   "source": [
    "y_val_proba = y_val_proba[:,1]\n",
    "print(y_val_proba)"
   ]
  },
  {
   "cell_type": "markdown",
   "metadata": {},
   "source": [
    "- Critère de performance ROC AUC"
   ]
  },
  {
   "cell_type": "code",
   "execution_count": 13,
   "metadata": {},
   "outputs": [
    {
     "data": {
      "text/plain": [
       "0.7869373683081335"
      ]
     },
     "execution_count": 13,
     "metadata": {},
     "output_type": "execute_result"
    }
   ],
   "source": [
    "from sklearn import metrics\n",
    "metrics.roc_auc_score(Y_val, y_val_proba)"
   ]
  },
  {
   "cell_type": "markdown",
   "metadata": {},
   "source": [
    "- Génération de la prédiction sur le 20% validation"
   ]
  },
  {
   "cell_type": "code",
   "execution_count": 14,
   "metadata": {},
   "outputs": [],
   "source": [
    "threshold = 0.5\n",
    "y_val_pred = [1 if p >= threshold else 0 for p in y_val_proba]"
   ]
  },
  {
   "cell_type": "markdown",
   "metadata": {},
   "source": [
    "- Matrice de confusion"
   ]
  },
  {
   "cell_type": "code",
   "execution_count": 15,
   "metadata": {},
   "outputs": [
    {
     "data": {
      "text/plain": [
       "array([[27378,   647],\n",
       "       [ 1468,   507]])"
      ]
     },
     "execution_count": 15,
     "metadata": {},
     "output_type": "execute_result"
    }
   ],
   "source": [
    "metrics.confusion_matrix(Y_val, y_val_pred)"
   ]
  },
  {
   "cell_type": "code",
   "execution_count": 33,
   "metadata": {},
   "outputs": [
    {
     "data": {
      "image/png": "[encoded data removed]",
      "text/plain": [
       "<Figure size 432x288 with 1 Axes>"
      ]
     },
     "metadata": {
      "needs_background": "light"
     },
     "output_type": "display_data"
    }
   ],
   "source": [
    "names = X_train.columns\n",
    "\n",
    "plt.bar(names, model.feature_importances_)\n",
    "plt.xticks(names, rotation=90);"
   ]
  },
  {
   "cell_type": "code",
   "execution_count": null,
   "metadata": {},
   "outputs": [],
   "source": []
  }
 ],
 "metadata": {
  "kernelspec": {
   "display_name": "Python 3",
   "language": "python",
   "name": "python3"
  },
  "language_info": {
   "codemirror_mode": {
    "name": "ipython",
    "version": 3
   },
   "file_extension": ".py",
   "mimetype": "text/x-python",
   "name": "python",
   "nbconvert_exporter": "python",
   "pygments_lexer": "ipython3",
   "version": "3.7.3"
  },
  "toc": {
   "base_numbering": 1,
   "nav_menu": {},
   "number_sections": true,
   "sideBar": true,
   "skip_h1_title": false,
   "title_cell": "Table of Contents",
   "title_sidebar": "Contents",
   "toc_cell": false,
   "toc_position": {},
   "toc_section_display": true,
   "toc_window_display": false
  }
 },
 "nbformat": 4,
 "nbformat_minor": 2
}
